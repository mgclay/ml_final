{
 "cells": [
  {
   "cell_type": "code",
   "execution_count": 684,
   "id": "6b42b8e4",
   "metadata": {},
   "outputs": [],
   "source": [
    "import fuzzywuzzy\n",
    "from fuzzywuzzy import fuzz\n",
    "from fuzzywuzzy import process\n",
    "import pandas as pd\n",
    "import re\n",
    "import nltk\n",
    "#nltk.download('stopwords')\n",
    "from sklearn.feature_extraction.text import TfidfVectorizer\n",
    "import numpy as np\n",
    "from sklearn.neural_network import MLPClassifier\n",
    "from sklearn.metrics import f1_score\n",
    "from sklearn.metrics.pairwise import cosine_similarity\n",
    "from sklearn.linear_model import LogisticRegression\n",
    "from sklearn.metrics import accuracy_score\n",
    "from sklearn.model_selection import train_test_split\n",
    "#from imblearn.over_sampling import SMOTE, ADASYN\n",
    "import torch\n",
    "from torch import nn\n",
    "import torch.nn as nn\n",
    "from torch.autograd import Variable\n",
    "import torch.nn.functional as F\n",
    "import imblearn\n",
    "from imblearn.under_sampling import RandomUnderSampler\n",
    "from imblearn.over_sampling import RandomOverSampler\n",
    "from imblearn.over_sampling import SMOTE"
   ]
  },
  {
   "cell_type": "code",
   "execution_count": 685,
   "id": "52b41a27",
   "metadata": {},
   "outputs": [],
   "source": [
    "train_sentences = pd.read_csv('train_with_label.txt', sep = '\\t', \\\n",
    "                              names = ['instance_id', 'sentence1', 'sentence2', 'label'], \\\n",
    "                             quoting = 3)\n",
    "\n",
    "train_df = pd.DataFrame(train_sentences)"
   ]
  },
  {
   "cell_type": "code",
   "execution_count": 686,
   "id": "1e6447e7",
   "metadata": {},
   "outputs": [],
   "source": [
    "def get_data(df):\n",
    "    sent1 = df.loc[:, 'sentence1']\n",
    "    sent2 = df.loc[:, 'sentence2']\n",
    "    labels = df.loc[:, 'label']\n",
    "    \n",
    "    return sent1, sent2, labels"
   ]
  },
  {
   "cell_type": "code",
   "execution_count": 687,
   "id": "ad039067",
   "metadata": {},
   "outputs": [],
   "source": [
    "train_sent1, train_sent2, train_labels = get_data(train_df)"
   ]
  },
  {
   "cell_type": "code",
   "execution_count": 688,
   "id": "540afa0f",
   "metadata": {},
   "outputs": [
    {
     "name": "stdout",
     "output_type": "stream",
     "text": [
      "['i', 'me', 'my', 'myself', 'we', 'our', 'ours', 'ourselves', 'you', \"you're\", \"you've\", \"you'll\", \"you'd\", 'your', 'yours', 'yourself', 'yourselves', 'he', 'him', 'his', 'himself', 'she', \"she's\", 'her', 'hers', 'herself', 'it', \"it's\", 'its', 'itself', 'they', 'them', 'their', 'theirs', 'themselves', 'what', 'which', 'who', 'whom', 'this', 'that', \"that'll\", 'these', 'those', 'am', 'is', 'are', 'was', 'were', 'be', 'been', 'being', 'have', 'has', 'had', 'having', 'do', 'does', 'did', 'doing', 'a', 'an', 'the', 'and', 'but', 'if', 'or', 'because', 'as', 'until', 'while', 'of', 'at', 'by', 'for', 'with', 'about', 'against', 'between', 'into', 'through', 'during', 'before', 'after', 'above', 'below', 'to', 'from', 'up', 'down', 'in', 'out', 'on', 'off', 'over', 'under', 'again', 'further', 'then', 'once', 'here', 'there', 'when', 'where', 'why', 'how', 'all', 'any', 'both', 'each', 'few', 'more', 'most', 'other', 'some', 'such', 'no', 'nor', 'not', 'only', 'own', 'same', 'so', 'than', 'too', 'very', 's', 't', 'can', 'will', 'just', 'don', \"don't\", 'should', \"should've\", 'now', 'd', 'll', 'm', 'o', 're', 've', 'y', 'ain', 'aren', \"aren't\", 'couldn', \"couldn't\", 'didn', \"didn't\", 'doesn', \"doesn't\", 'hadn', \"hadn't\", 'hasn', \"hasn't\", 'haven', \"haven't\", 'isn', \"isn't\", 'ma', 'mightn', \"mightn't\", 'mustn', \"mustn't\", 'needn', \"needn't\", 'shan', \"shan't\", 'shouldn', \"shouldn't\", 'wasn', \"wasn't\", 'weren', \"weren't\", 'won', \"won't\", 'wouldn', \"wouldn't\"]\n"
     ]
    }
   ],
   "source": [
    "import nltk\n",
    "from nltk.corpus import stopwords\n",
    "STOPWORDS = stopwords.words('english')\n",
    "print(STOPWORDS)"
   ]
  },
  {
   "cell_type": "code",
   "execution_count": 689,
   "id": "385dcdbe",
   "metadata": {},
   "outputs": [],
   "source": [
    "#STOPWORDS = stopwords.words('english')\n",
    "#STOPWORDS = set(STOPWORDS)\n",
    "# if word not in STOP \n",
    "def text_prepare(text, STOPWORDS):\n",
    "    REPLACE_BY_SPACE_RE = re.compile('[\\n\\\"\\'/(){}\\[\\]\\|@,;#]')\n",
    "    text = re.sub(REPLACE_BY_SPACE_RE, '', text)\n",
    "    text = re.sub(' +', ' ', text)\n",
    "    #rx =  re.compile('[\\n\\'()\\w]+|\\.]')\n",
    "    #text = re.sub(rx, ' ', text)\n",
    "    #text = re.sub(' +', ' ', text)\n",
    "    text = text.lower()\n",
    "\n",
    "    # delete stopwords from text\n",
    "    text = ' '.join([word for word in text.split()]) \n",
    "    text = text.strip()\n",
    "    return text"
   ]
  },
  {
   "cell_type": "code",
   "execution_count": 690,
   "id": "832dff5a",
   "metadata": {},
   "outputs": [],
   "source": [
    "tokall1 = []\n",
    "tokall2 = []\n",
    "for i in range(len(train_df)):\n",
    "    tok1 = ''\n",
    "    tok2 = ''\n",
    "    tok1 = text_prepare(train_sent1[i], STOPWORDS)\n",
    "    tok2 = text_prepare(train_sent2[i], STOPWORDS)\n",
    "    tokall1.append(tok1)\n",
    "    tokall2.append(tok2)"
   ]
  },
  {
   "cell_type": "code",
   "execution_count": 691,
   "id": "6410f024",
   "metadata": {},
   "outputs": [],
   "source": [
    "dev_sentences = pd.read_csv('dev_with_label.txt', sep = '\\t', \\\n",
    "                              names = ['instance_id', 'sentence1', 'sentence2', 'label'], \\\n",
    "                             quoting = 3)\n",
    "\n",
    "dev_df = pd.DataFrame(dev_sentences)"
   ]
  },
  {
   "cell_type": "code",
   "execution_count": 692,
   "id": "7baa0b59",
   "metadata": {},
   "outputs": [],
   "source": [
    "dev_sent1, dev_sent2, dev_labels = get_data(dev_df)"
   ]
  },
  {
   "cell_type": "code",
   "execution_count": 693,
   "id": "97a282bf",
   "metadata": {},
   "outputs": [],
   "source": [
    "dev_tokall1 = []\n",
    "dev_tokall2 = []\n",
    "for i in range(len(dev_df)):\n",
    "    dev_tok1 = ''\n",
    "    dev_tok2 = ''\n",
    "    dev_tok1 = text_prepare(dev_sent1[i], STOPWORDS)\n",
    "    dev_tok2 = text_prepare(dev_sent2[i], STOPWORDS)\n",
    "    dev_tokall1.append(dev_tok1)\n",
    "    dev_tokall2.append(dev_tok2)"
   ]
  },
  {
   "cell_type": "code",
   "execution_count": 694,
   "id": "8299b841",
   "metadata": {},
   "outputs": [],
   "source": [
    "fuzz_similarity = []\n",
    "for i in range(len(tokall1)):\n",
    "    ratio = fuzz.token_set_ratio(tokall1[i], tokall2[i])\n",
    "    fuzz_similarity += [ratio]"
   ]
  },
  {
   "cell_type": "code",
   "execution_count": 695,
   "id": "a386d7a9",
   "metadata": {},
   "outputs": [],
   "source": [
    "dev_fuzz_similarity = []\n",
    "for i in range(len(dev_tokall1)):\n",
    "    ratio = fuzz.token_set_ratio(dev_tokall1[i], dev_tokall2[i])\n",
    "    dev_fuzz_similarity +=[ratio]"
   ]
  },
  {
   "cell_type": "code",
   "execution_count": 696,
   "id": "2588c7ac",
   "metadata": {},
   "outputs": [],
   "source": [
    "for i in range(len(fuzz_similarity)):\n",
    "    fuzz_similarity[i] = fuzz_similarity[i] / 10"
   ]
  },
  {
   "cell_type": "code",
   "execution_count": 697,
   "id": "0a9fe981",
   "metadata": {},
   "outputs": [],
   "source": [
    "for i in range(len(dev_fuzz_similarity)):\n",
    "    dev_fuzz_similarity[i] = dev_fuzz_similarity[i] / 10"
   ]
  },
  {
   "cell_type": "code",
   "execution_count": 698,
   "id": "d06deec2",
   "metadata": {},
   "outputs": [],
   "source": [
    "train_labels = list(train_labels)\n",
    "dev_labels = list(dev_labels)\n",
    "\n",
    "for i in range(len(dev_labels)):\n",
    "    try:\n",
    "        dev_labels[i] = int(dev_labels[i])\n",
    "    except:\n",
    "        dev_labels[i] = 0\n",
    "        \n",
    "for i in range(len(train_labels)):\n",
    "    try:\n",
    "        train_labels[i] = int(train_labels[i])\n",
    "    except:\n",
    "        train_labels[i] = 0"
   ]
  },
  {
   "cell_type": "code",
   "execution_count": 699,
   "id": "4d3f8017",
   "metadata": {},
   "outputs": [],
   "source": [
    "fuzz_similarity = [[i] for i in fuzz_similarity]\n",
    "dev_fuzz_similarity = [[i] for i in dev_fuzz_similarity]"
   ]
  },
  {
   "cell_type": "code",
   "execution_count": 700,
   "id": "747bd2ab",
   "metadata": {},
   "outputs": [],
   "source": [
    "ros = RandomOverSampler(sampling_strategy=0.4)\n",
    "fuzz_dup, labels_dup = ros.fit_resample(fuzz_similarity, train_labels)"
   ]
  },
  {
   "cell_type": "code",
   "execution_count": 707,
   "id": "975ffeb7",
   "metadata": {},
   "outputs": [],
   "source": [
    "def build_MLP(train_features, test_features, train_targets):\n",
    "    classifier = MLPClassifier(hidden_layer_sizes=(25,15), activation='tanh', batch_size=300, n_iter_no_change = 100, solver='adam', max_iter=3000, learning_rate_init=0.008, learning_rate='adaptive')\n",
    "    classifier.fit(train_features, train_targets)\n",
    "    predictions = classifier.predict(test_features)\n",
    "    print(predictions)\n",
    "    #score = f1_score(test_targets, predictions)\n",
    "    #accuracy = accuracy_score(test_targets, predictions)\n",
    "    #print(score)\n",
    "    #print(accuracy)\n",
    "    return predictions"
   ]
  },
  {
   "cell_type": "code",
   "execution_count": 705,
   "id": "3991d771",
   "metadata": {},
   "outputs": [
    {
     "name": "stdout",
     "output_type": "stream",
     "text": [
      "[0 0 0 ... 0 1 0]\n",
      "0.7303651825912957\n",
      "0.86525\n"
     ]
    }
   ],
   "source": [
    "predictions = build_MLP(fuzz_dup, dev_fuzz_similarity, labels_dup, dev_labels)"
   ]
  },
  {
   "cell_type": "code",
   "execution_count": 708,
   "id": "286afbce",
   "metadata": {},
   "outputs": [],
   "source": [
    "dev_stuff = pd.DataFrame({'similarity': dev_fuzz_similarity, 'gold_label': dev_labels, 'predicted': predictions})"
   ]
  },
  {
   "cell_type": "code",
   "execution_count": 709,
   "id": "c4f973a7",
   "metadata": {},
   "outputs": [],
   "source": [
    "ros = RandomOverSampler(sampling_strategy=0.4)\n",
    "dev_fuzz_dup, dev_labels_dup = ros.fit_resample(dev_fuzz_similarity, dev_labels)"
   ]
  },
  {
   "cell_type": "code",
   "execution_count": 711,
   "id": "453ac7ff",
   "metadata": {},
   "outputs": [],
   "source": [
    "test_sentences = pd.read_csv('test_without_label.txt', sep = '\\t', \\\n",
    "                              names = ['instance_id', 'sentence1', 'sentence2'], \\\n",
    "                             quoting = 3)\n",
    "\n",
    "test_df = pd.DataFrame(test_sentences)"
   ]
  },
  {
   "cell_type": "code",
   "execution_count": 712,
   "id": "157b7ac7",
   "metadata": {},
   "outputs": [],
   "source": [
    "def get_data_test(df):\n",
    "    sent1 = df.loc[:, 'sentence1']\n",
    "    sent2 = df.loc[:, 'sentence2']\n",
    "    testid = df.loc[:, 'instance_id']\n",
    "    return sent1, sent2, testid"
   ]
  },
  {
   "cell_type": "code",
   "execution_count": 713,
   "id": "bef8c0e4",
   "metadata": {},
   "outputs": [],
   "source": [
    "test_sent1, test_sent2, testid= get_data_test(test_df)"
   ]
  },
  {
   "cell_type": "code",
   "execution_count": 714,
   "id": "194b5d82",
   "metadata": {},
   "outputs": [],
   "source": [
    "test_tokall1 = []\n",
    "test_tokall2 = []\n",
    "for i in range(len(test_df)):\n",
    "    test_tok1 = ''\n",
    "    test_tok2 = ''\n",
    "    test_tok1 = text_prepare(test_sent1[i], STOPWORDS)\n",
    "    test_tok2 = text_prepare(test_sent2[i], STOPWORDS)\n",
    "    test_tokall1.append(test_tok1)\n",
    "    test_tokall2.append(test_tok2)"
   ]
  },
  {
   "cell_type": "code",
   "execution_count": 715,
   "id": "bbfcf909",
   "metadata": {},
   "outputs": [],
   "source": [
    "test_fuzz_similarity = []\n",
    "for i in range(len(test_tokall1)):\n",
    "    ratio = fuzz.token_set_ratio(test_tokall1[i], test_tokall2[i])\n",
    "    test_fuzz_similarity += [ratio]"
   ]
  },
  {
   "cell_type": "code",
   "execution_count": 716,
   "id": "2b9175e7",
   "metadata": {},
   "outputs": [],
   "source": [
    "for i in range(len(test_fuzz_similarity)):\n",
    "    test_fuzz_similarity[i] = test_fuzz_similarity[i] / 10"
   ]
  },
  {
   "cell_type": "code",
   "execution_count": 717,
   "id": "d1be2da0",
   "metadata": {},
   "outputs": [],
   "source": [
    "test_fuzz_similarity = [[i] for i in test_fuzz_similarity]"
   ]
  },
  {
   "cell_type": "code",
   "execution_count": 738,
   "id": "e689f45b",
   "metadata": {},
   "outputs": [
    {
     "name": "stdout",
     "output_type": "stream",
     "text": [
      "[0 0 1 ... 0 0 0]\n"
     ]
    }
   ],
   "source": [
    "prediction = build_MLP(dev_fuzz_dup, test_fuzz_similarity, dev_labels_dup)"
   ]
  },
  {
   "cell_type": "code",
   "execution_count": 753,
   "id": "5da5a2c9",
   "metadata": {},
   "outputs": [],
   "source": [
    "def print_predictions(prediction, test_id):\n",
    "    with open(\"MaryClay_test_result.txt\", \"w\") as f:\n",
    "        for i in range(0, len(prediction)):\n",
    "            print(test_id[i],\"\\t\", prediction[i], file=f)"
   ]
  },
  {
   "cell_type": "code",
   "execution_count": 754,
   "id": "94523b18",
   "metadata": {},
   "outputs": [],
   "source": [
    "print_predictions(prediction, testid)"
   ]
  },
  {
   "cell_type": "code",
   "execution_count": 755,
   "id": "07f4f277",
   "metadata": {},
   "outputs": [
    {
     "name": "stdout",
     "output_type": "stream",
     "text": [
      "1317\n",
      "2683\n"
     ]
    }
   ],
   "source": [
    "pos_count = 0\n",
    "neg_count = 0\n",
    "for i in range(len(prediction)):\n",
    "    if(prediction[i] == 0):\n",
    "        neg_count +=1\n",
    "    else:\n",
    "        pos_count +=1\n",
    "\n",
    "print(pos_count)\n",
    "print(neg_count)"
   ]
  },
  {
   "cell_type": "code",
   "execution_count": null,
   "id": "cc26728e",
   "metadata": {},
   "outputs": [],
   "source": []
  }
 ],
 "metadata": {
  "kernelspec": {
   "display_name": "Python 3 (ipykernel)",
   "language": "python",
   "name": "python3"
  },
  "language_info": {
   "codemirror_mode": {
    "name": "ipython",
    "version": 3
   },
   "file_extension": ".py",
   "mimetype": "text/x-python",
   "name": "python",
   "nbconvert_exporter": "python",
   "pygments_lexer": "ipython3",
   "version": "3.9.7"
  }
 },
 "nbformat": 4,
 "nbformat_minor": 5
}
